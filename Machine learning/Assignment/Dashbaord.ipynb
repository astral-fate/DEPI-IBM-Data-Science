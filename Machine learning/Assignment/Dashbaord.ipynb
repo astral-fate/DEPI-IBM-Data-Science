{
 "cells": [
  {
   "cell_type": "code",
   "execution_count": 1,
   "id": "ad62697e-2bff-463d-9426-e7ddfc66a7f5",
   "metadata": {},
   "outputs": [
    {
     "data": {
      "text/html": [
       "\n",
       "        <iframe\n",
       "            width=\"100%\"\n",
       "            height=\"650\"\n",
       "            src=\"http://127.0.0.1:8050/\"\n",
       "            frameborder=\"0\"\n",
       "            allowfullscreen\n",
       "            \n",
       "        ></iframe>\n",
       "        "
      ],
      "text/plain": [
       "<IPython.lib.display.IFrame at 0x1f3eeb8cc90>"
      ]
     },
     "metadata": {},
     "output_type": "display_data"
    }
   ],
   "source": [
    "import dash\n",
    "from dash import dcc, html\n",
    "import plotly.express as px\n",
    "import pandas as pd\n",
    "\n",
    "data = pd.read_csv('data.csv') \n",
    "\n",
    "app = dash.Dash(__name__)\n",
    "\n",
    "# Function to create a bar chart\n",
    "def create_bar_chart(df, column, title):\n",
    "    df_count = df[column].value_counts().reset_index()\n",
    "    df_count.columns = [column, 'Count']\n",
    "    fig = px.bar(df_count, x=column, y='Count', title=title)\n",
    "    return fig\n",
    "\n",
    "# Function to create a pie chart\n",
    "def create_pie_chart(df, column, title):\n",
    "    df_count = df[column].value_counts().reset_index()\n",
    "    df_count.columns = [column, 'Count']\n",
    "    fig = px.pie(df_count, values='Count', names=column, title=title)\n",
    "    return fig\n",
    "\n",
    "# Function to create a histogram\n",
    "def create_histogram(df, column, title):\n",
    "    fig = px.histogram(df, x=column, title=title)\n",
    "    return fig\n",
    "\n",
    "app.layout = html.Div([\n",
    "    html.H1(\"EDA Dashboard\"),\n",
    "    \n",
    "    html.Div([\n",
    "        dcc.Graph(id='status-chart', figure=create_bar_chart(data, 'Status', 'Status Distribution')),\n",
    "        dcc.Graph(id='gender-chart', figure=create_pie_chart(data, 'Gender', 'Gender Distribution')),\n",
    "    ], style={'display': 'flex'}),\n",
    "    \n",
    "    html.Div([\n",
    "        dcc.Graph(id='education-chart', figure=create_bar_chart(data, 'Education', 'Education Distribution')),\n",
    "        dcc.Graph(id='marital-status-chart', figure=create_bar_chart(data, 'MaritalStatus', 'Marital Status Distribution')),\n",
    "    ], style={'display': 'flex'}),\n",
    "    \n",
    "    html.Div([\n",
    "        dcc.Graph(id='employment-status-chart', figure=create_bar_chart(data, 'EmploymentStatus', 'Employment Status Distribution')),\n",
    "        dcc.Graph(id='home-ownership-chart', figure=create_bar_chart(data, 'HomeOwnershipType', 'Home Ownership Type Distribution')),\n",
    "    ], style={'display': 'flex'}),\n",
    "    \n",
    "    html.Div([\n",
    "        dcc.Graph(id='use-of-loan-chart', figure=create_bar_chart(data, 'UseOfLoan', 'Use of Loan Distribution')),\n",
    "        dcc.Graph(id='age-chart', figure=create_histogram(data, 'Age', 'Age Distribution')),\n",
    "    ], style={'display': 'flex'}),\n",
    "    \n",
    "    html.Div([\n",
    "        dcc.Graph(id='amount-chart', figure=create_histogram(data, 'Amount', 'Loan Amount Distribution')),\n",
    "        dcc.Graph(id='income-chart', figure=create_histogram(data, 'IncomeTotal', 'Total Income Distribution')),\n",
    "    ], style={'display': 'flex'}),\n",
    "])\n",
    "\n",
    "if __name__ == '__main__':\n",
    "    app.run_server(debug=True)"
   ]
  }
 ],
 "metadata": {
  "kernelspec": {
   "display_name": "Python 3 (ipykernel)",
   "language": "python",
   "name": "python3"
  },
  "language_info": {
   "codemirror_mode": {
    "name": "ipython",
    "version": 3
   },
   "file_extension": ".py",
   "mimetype": "text/x-python",
   "name": "python",
   "nbconvert_exporter": "python",
   "pygments_lexer": "ipython3",
   "version": "3.11.7"
  }
 },
 "nbformat": 4,
 "nbformat_minor": 5
}
